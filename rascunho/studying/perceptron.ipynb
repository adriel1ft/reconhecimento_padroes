{
 "cells": [
  {
   "cell_type": "code",
   "execution_count": 1,
   "metadata": {},
   "outputs": [],
   "source": [
    "import pandas as pd\n",
    "import numpy as np\n",
    "from sklearn.datasets import load_iris"
   ]
  },
  {
   "cell_type": "code",
   "execution_count": 3,
   "metadata": {},
   "outputs": [],
   "source": [
    "features = np.array(\n",
    "[    [0,0],\n",
    "    [0,1],\n",
    "    [1,0],\n",
    "    [1,1]]\n",
    ")\n",
    "\n",
    "labels = np.array([-1,-1,-1,1])\n",
    "\n",
    "w = np.array([0,0])"
   ]
  },
  {
   "cell_type": "code",
   "execution_count": null,
   "metadata": {},
   "outputs": [],
   "source": [
    "for i in range(features.shape[0]):\n",
    "    x = features[i]\n",
    "    y = labels[i]\n",
    "    y_hat = np.dot(w,x)\n",
    "    error = y - y_hat\n",
    "    w = w + error*x"
   ]
  },
  {
   "cell_type": "code",
   "execution_count": 5,
   "metadata": {},
   "outputs": [
    {
     "name": "stdout",
     "output_type": "stream",
     "text": [
      "Output: -1\n"
     ]
    }
   ],
   "source": [
    "import numpy as np\n",
    "\n",
    "# Função de ativação (degrau)\n",
    "def step_function(z):\n",
    "    return 1 if z >= 0 else -1\n",
    "\n",
    "# Inicialização dos pesos e do bias\n",
    "weights = np.array([0.5, -0.3])  # pesos arbitrários\n",
    "bias = -0.2  # limiar ajustado implicitamente através do bias\n",
    "\n",
    "# Exemplo de uma entrada\n",
    "x = np.array([1, 2])\n",
    "\n",
    "# Cálculo da soma ponderada (z)\n",
    "z = np.dot(weights, x) + bias\n",
    "\n",
    "# Aplicação da função de ativação\n",
    "output = step_function(z)\n",
    "\n",
    "print(\"Output:\", output)\n"
   ]
  },
  {
   "cell_type": "code",
   "execution_count": 6,
   "metadata": {},
   "outputs": [
    {
     "name": "stdout",
     "output_type": "stream",
     "text": [
      "Vetor de pesos final: [ 8. -9.]\n"
     ]
    }
   ],
   "source": [
    "def PLA(X, y):\n",
    "    # Inicializa os pesos com zeros\n",
    "    w = np.zeros(X.shape[1])\n",
    "    it = 0\n",
    "    \n",
    "    # Lista de Pontos Classificados Incorretamente\n",
    "    for _ in range(max_iter):\n",
    "        # Lista de pontos classificados incorretamente\n",
    "        listaPCI = []\n",
    "        for i in range(len(y)):\n",
    "            if np.sign(np.dot(X[i], w)) != y[i]:\n",
    "                listaPCI.append(i)\n",
    "        \n",
    "        # Se não há mais pontos incorretamente classificados, pare\n",
    "        if len(listaPCI) == 0:\n",
    "            break\n",
    "        \n",
    "        # Escolha aleatoriamente um ponto da listaPCI\n",
    "        i = random.choice(listaPCI)\n",
    "        \n",
    "        # Atualize os pesos\n",
    "        w = w + y[i] * X[i]\n",
    "    \n",
    "    return w\n",
    "\n",
    "# Exemplo de uso:\n",
    "X = np.array([[1, 1], [2, 1], [2, 2], [3, 3]])\n",
    "y = np.array([1, 1, -1, -1])\n",
    "\n",
    "w = perceptron(X, y)\n",
    "print(f'Vetor de pesos final: {w}')\n"
   ]
  },
  {
   "cell_type": "code",
   "execution_count": 11,
   "metadata": {},
   "outputs": [
    {
     "name": "stdout",
     "output_type": "stream",
     "text": [
      "Pesos finais: [-4.  3.  2.]\n"
     ]
    }
   ],
   "source": [
    "import numpy as np\n",
    "\n",
    "def initialize_weights(n_features):\n",
    "    return np.zeros(n_features)\n",
    "\n",
    "def update_weights(w, x, y):\n",
    "    return w + y * x\n",
    "\n",
    "def predict(w, x):\n",
    "    return np.sign(np.dot(w, x))\n",
    "\n",
    "def train_pla(X, y, max_iter=100):\n",
    "    n_samples, n_features = X.shape\n",
    "    w = initialize_weights(n_features + 1)  # +1 para o termo de bias\n",
    "\n",
    "    # Adiciona o termo de bias aos dados\n",
    "    X = np.insert(X, 0, 1, axis=1)  # Adiciona coluna de 1s\n",
    "\n",
    "    for _ in range(max_iter):\n",
    "        misclassified = False\n",
    "        for i in range(n_samples):\n",
    "            if predict(w, X[i]) != y[i]:\n",
    "                w = update_weights(w, X[i], y[i])\n",
    "                misclassified = True\n",
    "        if not misclassified:\n",
    "            break\n",
    "\n",
    "    return w\n",
    "\n",
    "# Exemplo de uso\n",
    "X = np.array([[0, 0], [0, 1], [1, 0], [1, 1]])  # Dados de entrada\n",
    "y = np.array([-1, -1, -1, 1])  # Classes correspondentes\n",
    "\n",
    "weights = train_pla(X, y)\n",
    "print(\"Pesos finais:\", weights)\n"
   ]
  },
  {
   "cell_type": "code",
   "execution_count": 13,
   "metadata": {},
   "outputs": [
    {
     "ename": "ValueError",
     "evalue": "shapes (1,3) and (90000,3) not aligned: 3 (dim 1) != 90000 (dim 0)",
     "output_type": "error",
     "traceback": [
      "\u001b[0;31m---------------------------------------------------------------------------\u001b[0m",
      "\u001b[0;31mValueError\u001b[0m                                Traceback (most recent call last)",
      "Cell \u001b[0;32mIn[13], line 49\u001b[0m\n\u001b[1;32m     46\u001b[0m X \u001b[38;5;241m=\u001b[39m np\u001b[38;5;241m.\u001b[39marray([[\u001b[38;5;241m0\u001b[39m, \u001b[38;5;241m0\u001b[39m], [\u001b[38;5;241m0\u001b[39m, \u001b[38;5;241m1\u001b[39m], [\u001b[38;5;241m1\u001b[39m, \u001b[38;5;241m0\u001b[39m], [\u001b[38;5;241m1\u001b[39m, \u001b[38;5;241m1\u001b[39m]])  \u001b[38;5;66;03m# Dados de entrada\u001b[39;00m\n\u001b[1;32m     47\u001b[0m y \u001b[38;5;241m=\u001b[39m np\u001b[38;5;241m.\u001b[39marray([\u001b[38;5;241m-\u001b[39m\u001b[38;5;241m1\u001b[39m, \u001b[38;5;241m-\u001b[39m\u001b[38;5;241m1\u001b[39m, \u001b[38;5;241m-\u001b[39m\u001b[38;5;241m1\u001b[39m, \u001b[38;5;241m1\u001b[39m])  \u001b[38;5;66;03m# Classes correspondentes\u001b[39;00m\n\u001b[0;32m---> 49\u001b[0m weights \u001b[38;5;241m=\u001b[39m train_pla(X, y)\n",
      "Cell \u001b[0;32mIn[13], line 38\u001b[0m, in \u001b[0;36mtrain_pla\u001b[0;34m(X, y, max_iter)\u001b[0m\n\u001b[1;32m     35\u001b[0m         misclassified \u001b[38;5;241m=\u001b[39m \u001b[38;5;28;01mTrue\u001b[39;00m\n\u001b[1;32m     37\u001b[0m \u001b[38;5;66;03m# Plotar a fronteira de decisão após cada época\u001b[39;00m\n\u001b[0;32m---> 38\u001b[0m plot_decision_boundary(X[:, \u001b[38;5;241m1\u001b[39m:], y, w)\n\u001b[1;32m     40\u001b[0m \u001b[38;5;28;01mif\u001b[39;00m \u001b[38;5;129;01mnot\u001b[39;00m misclassified:\n\u001b[1;32m     41\u001b[0m     \u001b[38;5;28;01mbreak\u001b[39;00m\n",
      "Cell \u001b[0;32mIn[13], line 13\u001b[0m, in \u001b[0;36mplot_decision_boundary\u001b[0;34m(X, y, w)\u001b[0m\n\u001b[1;32m      9\u001b[0m xx, yy \u001b[38;5;241m=\u001b[39m np\u001b[38;5;241m.\u001b[39mmeshgrid(np\u001b[38;5;241m.\u001b[39marange(x_min, x_max, \u001b[38;5;241m0.01\u001b[39m),\n\u001b[1;32m     10\u001b[0m                      np\u001b[38;5;241m.\u001b[39marange(y_min, y_max, \u001b[38;5;241m0.01\u001b[39m))\n\u001b[1;32m     12\u001b[0m \u001b[38;5;66;03m# Calcula a saída para cada ponto da grade\u001b[39;00m\n\u001b[0;32m---> 13\u001b[0m Z \u001b[38;5;241m=\u001b[39m predict(w[np\u001b[38;5;241m.\u001b[39mnewaxis, :], np\u001b[38;5;241m.\u001b[39mc_[np\u001b[38;5;241m.\u001b[39mones(xx\u001b[38;5;241m.\u001b[39mravel()\u001b[38;5;241m.\u001b[39mshape), xx\u001b[38;5;241m.\u001b[39mravel(), yy\u001b[38;5;241m.\u001b[39mravel()])\n\u001b[1;32m     15\u001b[0m Z \u001b[38;5;241m=\u001b[39m Z\u001b[38;5;241m.\u001b[39mreshape(xx\u001b[38;5;241m.\u001b[39mshape)\n\u001b[1;32m     17\u001b[0m \u001b[38;5;66;03m# Plota a fronteira de decisão\u001b[39;00m\n",
      "Cell \u001b[0;32mIn[11], line 10\u001b[0m, in \u001b[0;36mpredict\u001b[0;34m(w, x)\u001b[0m\n\u001b[1;32m      9\u001b[0m \u001b[38;5;28;01mdef\u001b[39;00m \u001b[38;5;21mpredict\u001b[39m(w, x):\n\u001b[0;32m---> 10\u001b[0m     \u001b[38;5;28;01mreturn\u001b[39;00m np\u001b[38;5;241m.\u001b[39msign(np\u001b[38;5;241m.\u001b[39mdot(w, x))\n",
      "\u001b[0;31mValueError\u001b[0m: shapes (1,3) and (90000,3) not aligned: 3 (dim 1) != 90000 (dim 0)"
     ]
    }
   ],
   "source": [
    "import numpy as np\n",
    "import matplotlib.pyplot as plt\n",
    "\n",
    "def plot_decision_boundary(X, y, w):\n",
    "    \"\"\"Plota a fronteira de decisão do Perceptron.\"\"\"\n",
    "    # Cria uma grade de pontos para plotar a fronteira\n",
    "    x_min, x_max = X[:, 0].min() - 1, X[:, 0].max() + 1\n",
    "    y_min, y_max = X[:, 1].min() - 1, X[:, 1].max() + 1\n",
    "    xx, yy = np.meshgrid(np.arange(x_min, x_max, 0.01),\n",
    "                         np.arange(y_min, y_max, 0.01))\n",
    "    \n",
    "    # Calcula a saída para cada ponto da grade\n",
    "    Z = predict(w[np.newaxis, :], np.c_[np.ones(xx.ravel().shape), xx.ravel(), yy.ravel()])\n",
    "\n",
    "    Z = Z.reshape(xx.shape)\n",
    "    \n",
    "    # Plota a fronteira de decisão\n",
    "    plt.contourf(xx, yy, Z, alpha=0.8, cmap=plt.cm.coolwarm)\n",
    "    plt.scatter(X[:, 0], X[:, 1], c=y, edgecolors='k', marker='o')\n",
    "    plt.xlabel('Feature 1')\n",
    "    plt.ylabel('Feature 2')\n",
    "    plt.title('Fronteira de Decisão do Perceptron')\n",
    "    plt.show()\n",
    "\n",
    "def train_pla(X, y, max_iter=100):\n",
    "    n_samples, n_features = X.shape\n",
    "    w = initialize_weights(n_features + 1)  # +1 para o termo de bias\n",
    "    X = np.insert(X, 0, 1, axis=1)  # Adiciona coluna de 1s\n",
    "\n",
    "    for epoch in range(max_iter):\n",
    "        misclassified = False\n",
    "        for i in range(n_samples):\n",
    "            if predict(w, X[i]) != y[i]:\n",
    "                w = update_weights(w, X[i], y[i])\n",
    "                misclassified = True\n",
    "        \n",
    "        # Plotar a fronteira de decisão após cada época\n",
    "        plot_decision_boundary(X[:, 1:], y, w)\n",
    "        \n",
    "        if not misclassified:\n",
    "            break\n",
    "\n",
    "    return w\n",
    "\n",
    "# Exemplo de uso\n",
    "X = np.array([[0, 0], [0, 1], [1, 0], [1, 1]])  # Dados de entrada\n",
    "y = np.array([-1, -1, -1, 1])  # Classes correspondentes\n",
    "\n",
    "weights = train_pla(X, y)\n"
   ]
  },
  {
   "cell_type": "code",
   "execution_count": 10,
   "metadata": {},
   "outputs": [
    {
     "data": {
      "text/plain": [
       "array([11, 11])"
      ]
     },
     "execution_count": 10,
     "metadata": {},
     "output_type": "execute_result"
    }
   ],
   "source": [
    "w = np.array([0,0])\n",
    "w = np.array([1,1]) + 2 * 5\n",
    "w"
   ]
  },
  {
   "cell_type": "code",
   "execution_count": null,
   "metadata": {},
   "outputs": [],
   "source": []
  }
 ],
 "metadata": {
  "kernelspec": {
   "display_name": "base",
   "language": "python",
   "name": "python3"
  },
  "language_info": {
   "codemirror_mode": {
    "name": "ipython",
    "version": 3
   },
   "file_extension": ".py",
   "mimetype": "text/x-python",
   "name": "python",
   "nbconvert_exporter": "python",
   "pygments_lexer": "ipython3",
   "version": "3.11.5"
  }
 },
 "nbformat": 4,
 "nbformat_minor": 2
}
